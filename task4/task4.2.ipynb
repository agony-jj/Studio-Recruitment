{
 "cells": [
  {
   "cell_type": "markdown",
   "id": "889f9c75",
   "metadata": {},
   "source": [
    "# 任务四 —— Transformer —— \"Attention Is All You Need\" 论文精读与实践\n",
    "\n",
    "## 任务三：代码实现\n",
    "\n",
    "1. 实现 ScaledDotProductAttention"
   ]
  },
  {
   "cell_type": "code",
   "execution_count": 1,
   "id": "a5651ee0",
   "metadata": {},
   "outputs": [],
   "source": [
    "import torch\n",
    "import torch.nn as nn\n",
    "import math"
   ]
  },
  {
   "cell_type": "code",
   "execution_count": null,
   "id": "73c0b6d8",
   "metadata": {},
   "outputs": [],
   "source": [
    "def scaled_dot_product_attention(q, k, v, mask=None):\n",
    "     # --- 请你完成这部分代码 ---\n",
    "    y = torch.matmul(q, k.transpose(-2,-1))/ math.sqrt(k.size(-1))\n",
    "    if mask is not None:\n",
    "        y = y.masked_fill(mask == 0, float('-inf'))\n",
    "    attention_weights = torch.softmax(y, dim=-1) \n",
    "    output = torch.matmul(attention_weights, v)\n",
    "    return output, attention_weights"
   ]
  },
  {
   "cell_type": "markdown",
   "id": "585189ca",
   "metadata": {},
   "source": [
    "这里说明一下mask机制，因为在原文中并没有过多介绍。mask机制主要分为paddingmask和casualmask，前者用于屏蔽\\<PAD\\>,后者用于在Decoder中屏蔽未来位置。在代码实现中，我们会把mask矩阵中为0的地方替换为-inf，因为这样对应softmax趋于0。在使用时通过传入的mask矩阵类型确定采用何种方式，如paddingmask就传入标记\\<PAD\\>的矩阵，casualmask就传入下三角矩阵。"
   ]
  },
  {
   "cell_type": "markdown",
   "id": "170490a7",
   "metadata": {},
   "source": [
    "2. 构建一个 SelfAttention 模块"
   ]
  },
  {
   "cell_type": "code",
   "execution_count": 3,
   "id": "61f3a19a",
   "metadata": {},
   "outputs": [],
   "source": [
    "class SimpleSelfAttention(nn.Module):\n",
    "    def __init__(self, embed_dim, head_dim):\n",
    "        super().__init__()\n",
    "        self.q_proj = nn.Linear(embed_dim, head_dim)\n",
    "        self.k_proj = nn.Linear(embed_dim, head_dim)\n",
    "        self.v_proj = nn.Linear(embed_dim, head_dim)\n",
    "    \n",
    "    def forward(self, x):\n",
    "        # --- 请你完成这部分代码 ---\n",
    "        # 1. 将 x 传入线性层得到 q, k, v\n",
    "        # 2. 调用 scaled_dot_product_attention\n",
    "        # 3. 返回输出结果\n",
    "        q = self.q_proj(x)\n",
    "        k = self.k_proj(x)\n",
    "        v = self.v_proj(x)\n",
    "        output, attention_weights = scaled_dot_product_attention(q, k, v)\n",
    "        return output, attention_weights"
   ]
  },
  {
   "cell_type": "markdown",
   "id": "8029145c",
   "metadata": {},
   "source": [
    "3. 验证实现：\n",
    "    这里采用原论文中的512作为embedding_dim，64作为head_dim。输入的序列长度为20，批量大小是10"
   ]
  },
  {
   "cell_type": "code",
   "execution_count": null,
   "id": "321b438d",
   "metadata": {},
   "outputs": [
    {
     "name": "stdout",
     "output_type": "stream",
     "text": [
      "torch.Size([10, 20, 64])\n",
      "torch.Size([10, 20, 20])\n"
     ]
    }
   ],
   "source": [
    "# --- 验证部分 ---\n",
    "# 创建实例和输入数据，并检查输出形状\n",
    "embed_dim = 512\n",
    "head_dim = 64\n",
    "attention = SimpleSelfAttention(embed_dim, head_dim)\n",
    "x = torch.rand(10, 20, embed_dim)  # (batch_size, seq_len, embed_dim)，当维度较多时写注释相当重要\n",
    "output, attn_weights = attention(x)\n",
    "print(output.shape)  # 应该是 (10, 20, head_dim)\n",
    "print(attn_weights.shape)  # 应该是 (10, 20, 20) "
   ]
  }
 ],
 "metadata": {
  "kernelspec": {
   "display_name": "Tpytorch",
   "language": "python",
   "name": "python3"
  },
  "language_info": {
   "codemirror_mode": {
    "name": "ipython",
    "version": 3
   },
   "file_extension": ".py",
   "mimetype": "text/x-python",
   "name": "python",
   "nbconvert_exporter": "python",
   "pygments_lexer": "ipython3",
   "version": "3.11.13"
  }
 },
 "nbformat": 4,
 "nbformat_minor": 5
}
