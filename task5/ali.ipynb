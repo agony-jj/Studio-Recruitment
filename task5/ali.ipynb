{
 "cells": [
  {
   "cell_type": "code",
   "execution_count": 1,
   "id": "cad9ef52",
   "metadata": {},
   "outputs": [],
   "source": [
    "import os\n",
    "import dashscope"
   ]
  },
  {
   "cell_type": "code",
   "execution_count": 2,
   "id": "4ef6dba8",
   "metadata": {},
   "outputs": [],
   "source": [
    "messages = [{\"role\": \"user\", \"content\": \"请简要说明huggingface有哪些功能\"}]"
   ]
  },
  {
   "cell_type": "code",
   "execution_count": 3,
   "id": "f2d43b54",
   "metadata": {},
   "outputs": [],
   "source": [
    "response = dashscope.Generation.call(\n",
    "    api_key=os.getenv(\"DASHSCOPE_API_KEY\"),\n",
    "    model=\"qwen3-235b-a22b-instruct-2507\", \n",
    "    messages=messages,\n",
    "    result_format='message',\n",
    "    max_new_tokens = 512\n",
    "    )"
   ]
  },
  {
   "cell_type": "code",
   "execution_count": 4,
   "id": "52f59d94",
   "metadata": {},
   "outputs": [
    {
     "name": "stdout",
     "output_type": "stream",
     "text": [
      "Hugging Face 是一个专注于自然语言处理（NLP）和人工智能开源模型的平台，其主要功能包括：\n",
      "\n",
      "1. **模型库（Model Hub）**  \n",
      "   提供大量预训练模型（如 BERT、GPT、T5、RoBERTa 等），支持文本分类、问答、翻译、生成等多种任务。用户可免费下载、使用或上传自己的模型。\n",
      "\n",
      "2. **Transformers 库**  \n",
      "   开源 Python 库，提供统一接口调用各种预训练模型，支持 PyTorch、TensorFlow 和 JAX，极大简化了模型的加载与微调流程。\n",
      "\n",
      "3. **数据集（Datasets）**  \n",
      "   提供数千个公开 NLP 数据集（如 SQuAD、GLUE），支持一键加载和快速预处理，便于模型训练与评估。\n",
      "\n",
      "4. **推理 API（Inference API）**  \n",
      "   支持在线调用模型进行实时推理，无需本地部署，适合快速测试和原型开发。\n",
      "\n",
      "5. **模型训练与部署工具**  \n",
      "   提供 `Trainer` API 简化训练流程，并支持将模型部署为 API 服务（通过 Inference Endpoints）。\n",
      "\n",
      "6. **协作与共享平台**  \n",
      "   类似“GitHub for ML”，用户可公开模型、数据集和演示（Spaces），促进社区协作。\n",
      "\n",
      "7. **Spaces（应用演示平台）**  \n",
      "   允许用户创建和分享基于模型的交互式应用（如聊天机器人、文本生成器），支持 Gradio 或 Streamlit 快速搭建界面。\n",
      "\n",
      "8. **AutoTrain 工具**  \n",
      "   提供自动化模型训练工具，降低非专业用户进行模型微调的门槛。\n",
      "\n",
      "9. **支持多模态任务**  \n",
      "   除文本外，也支持语音、图像等多模态模型（如 Whisper、ViT）。\n",
      "\n",
      "总之，Hugging Face 构建了一个集模型、数据、工具和社区于一体的AI生态系统，广泛应用于研究与工业场景。\n"
     ]
    }
   ],
   "source": [
    "print(response[\"output\"][\"choices\"][0]['message']['content'])  # 打印生成结果"
   ]
  },
  {
   "cell_type": "markdown",
   "id": "d087037d",
   "metadata": {},
   "source": [
    "对比发现云端调用生成的答案质量更高，且推理速度更快"
   ]
  }
 ],
 "metadata": {
  "kernelspec": {
   "display_name": "Tpytorch",
   "language": "python",
   "name": "python3"
  },
  "language_info": {
   "codemirror_mode": {
    "name": "ipython",
    "version": 3
   },
   "file_extension": ".py",
   "mimetype": "text/x-python",
   "name": "python",
   "nbconvert_exporter": "python",
   "pygments_lexer": "ipython3",
   "version": "3.11.13"
  }
 },
 "nbformat": 4,
 "nbformat_minor": 5
}
